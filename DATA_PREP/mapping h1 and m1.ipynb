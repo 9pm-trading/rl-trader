{
 "cells": [
  {
   "cell_type": "code",
   "execution_count": 86,
   "metadata": {},
   "outputs": [],
   "source": [
    "import pandas as pd\n",
    "df_H1 = pd.read_csv('eurusd_h1_2013_2020.csv')\n",
    "df_m1 = pd.read_csv('eurusd_m1_2013_2020.csv')"
   ]
  },
  {
   "cell_type": "code",
   "execution_count": 87,
   "metadata": {},
   "outputs": [
    {
     "data": {
      "text/html": [
       "<div>\n",
       "<style scoped>\n",
       "    .dataframe tbody tr th:only-of-type {\n",
       "        vertical-align: middle;\n",
       "    }\n",
       "\n",
       "    .dataframe tbody tr th {\n",
       "        vertical-align: top;\n",
       "    }\n",
       "\n",
       "    .dataframe thead th {\n",
       "        text-align: right;\n",
       "    }\n",
       "</style>\n",
       "<table border=\"1\" class=\"dataframe\">\n",
       "  <thead>\n",
       "    <tr style=\"text-align: right;\">\n",
       "      <th></th>\n",
       "      <th>datetime</th>\n",
       "      <th>close_change_%</th>\n",
       "      <th>ema50_delta_%</th>\n",
       "      <th>ema21_delta_%</th>\n",
       "      <th>open</th>\n",
       "      <th>high</th>\n",
       "      <th>low</th>\n",
       "      <th>close</th>\n",
       "      <th>date</th>\n",
       "      <th>hour</th>\n",
       "    </tr>\n",
       "  </thead>\n",
       "  <tbody>\n",
       "    <tr>\n",
       "      <th>0</th>\n",
       "      <td>2013-01-02 00:00:00</td>\n",
       "      <td>-0.059824</td>\n",
       "      <td>-0.057513</td>\n",
       "      <td>-0.054418</td>\n",
       "      <td>1.32049</td>\n",
       "      <td>1.32073</td>\n",
       "      <td>1.31866</td>\n",
       "      <td>1.31974</td>\n",
       "      <td>2013-01-02</td>\n",
       "      <td>0</td>\n",
       "    </tr>\n",
       "    <tr>\n",
       "      <th>1</th>\n",
       "      <td>2013-01-02 01:00:00</td>\n",
       "      <td>0.068953</td>\n",
       "      <td>0.010984</td>\n",
       "      <td>0.013204</td>\n",
       "      <td>1.31972</td>\n",
       "      <td>1.32124</td>\n",
       "      <td>1.31916</td>\n",
       "      <td>1.32065</td>\n",
       "      <td>2013-01-02</td>\n",
       "      <td>1</td>\n",
       "    </tr>\n",
       "    <tr>\n",
       "      <th>2</th>\n",
       "      <td>2013-01-02 02:00:00</td>\n",
       "      <td>0.506569</td>\n",
       "      <td>0.494750</td>\n",
       "      <td>0.470139</td>\n",
       "      <td>1.32067</td>\n",
       "      <td>1.32767</td>\n",
       "      <td>1.32065</td>\n",
       "      <td>1.32734</td>\n",
       "      <td>2013-01-02</td>\n",
       "      <td>2</td>\n",
       "    </tr>\n",
       "    <tr>\n",
       "      <th>3</th>\n",
       "      <td>2013-01-02 03:00:00</td>\n",
       "      <td>0.150677</td>\n",
       "      <td>0.619184</td>\n",
       "      <td>0.563530</td>\n",
       "      <td>1.32734</td>\n",
       "      <td>1.32992</td>\n",
       "      <td>1.32706</td>\n",
       "      <td>1.32934</td>\n",
       "      <td>2013-01-02</td>\n",
       "      <td>3</td>\n",
       "    </tr>\n",
       "    <tr>\n",
       "      <th>4</th>\n",
       "      <td>2013-01-02 04:00:00</td>\n",
       "      <td>-0.059428</td>\n",
       "      <td>0.538124</td>\n",
       "      <td>0.458547</td>\n",
       "      <td>1.32934</td>\n",
       "      <td>1.32961</td>\n",
       "      <td>1.32747</td>\n",
       "      <td>1.32855</td>\n",
       "      <td>2013-01-02</td>\n",
       "      <td>4</td>\n",
       "    </tr>\n",
       "  </tbody>\n",
       "</table>\n",
       "</div>"
      ],
      "text/plain": [
       "              datetime  close_change_%  ema50_delta_%  ema21_delta_%     open  \\\n",
       "0  2013-01-02 00:00:00       -0.059824      -0.057513      -0.054418  1.32049   \n",
       "1  2013-01-02 01:00:00        0.068953       0.010984       0.013204  1.31972   \n",
       "2  2013-01-02 02:00:00        0.506569       0.494750       0.470139  1.32067   \n",
       "3  2013-01-02 03:00:00        0.150677       0.619184       0.563530  1.32734   \n",
       "4  2013-01-02 04:00:00       -0.059428       0.538124       0.458547  1.32934   \n",
       "\n",
       "      high      low    close        date  hour  \n",
       "0  1.32073  1.31866  1.31974  2013-01-02     0  \n",
       "1  1.32124  1.31916  1.32065  2013-01-02     1  \n",
       "2  1.32767  1.32065  1.32734  2013-01-02     2  \n",
       "3  1.32992  1.32706  1.32934  2013-01-02     3  \n",
       "4  1.32961  1.32747  1.32855  2013-01-02     4  "
      ]
     },
     "execution_count": 87,
     "metadata": {},
     "output_type": "execute_result"
    }
   ],
   "source": [
    "df_H1.head()"
   ]
  },
  {
   "cell_type": "code",
   "execution_count": 88,
   "metadata": {},
   "outputs": [
    {
     "name": "stdout",
     "output_type": "stream",
     "text": [
      "<class 'pandas.core.frame.DataFrame'>\n",
      "RangeIndex: 2773716 entries, 0 to 2773715\n",
      "Data columns (total 7 columns):\n",
      " #   Column    Dtype  \n",
      "---  ------    -----  \n",
      " 0   datetime  object \n",
      " 1   open      float64\n",
      " 2   high      float64\n",
      " 3   low       float64\n",
      " 4   close     float64\n",
      " 5   date      object \n",
      " 6   hour      int64  \n",
      "dtypes: float64(4), int64(1), object(2)\n",
      "memory usage: 148.1+ MB\n"
     ]
    }
   ],
   "source": [
    "df_m1.info()"
   ]
  },
  {
   "cell_type": "code",
   "execution_count": 89,
   "metadata": {},
   "outputs": [],
   "source": [
    "filt = ( df_m1['datetime']==df_H1['datetime'][0] )\n",
    "matched_index_m1 = df_m1.loc[filt].index.tolist()[0]"
   ]
  },
  {
   "cell_type": "code",
   "execution_count": 90,
   "metadata": {},
   "outputs": [
    {
     "data": {
      "text/plain": [
       "60"
      ]
     },
     "execution_count": 90,
     "metadata": {},
     "output_type": "execute_result"
    }
   ],
   "source": [
    "matched_index_m1"
   ]
  },
  {
   "cell_type": "code",
   "execution_count": 91,
   "metadata": {},
   "outputs": [
    {
     "data": {
      "text/plain": [
       "'2013-01-02 00:00:00'"
      ]
     },
     "execution_count": 91,
     "metadata": {},
     "output_type": "execute_result"
    }
   ],
   "source": [
    "df_H1['datetime'][0]"
   ]
  },
  {
   "cell_type": "code",
   "execution_count": 92,
   "metadata": {},
   "outputs": [
    {
     "data": {
      "text/html": [
       "<div>\n",
       "<style scoped>\n",
       "    .dataframe tbody tr th:only-of-type {\n",
       "        vertical-align: middle;\n",
       "    }\n",
       "\n",
       "    .dataframe tbody tr th {\n",
       "        vertical-align: top;\n",
       "    }\n",
       "\n",
       "    .dataframe thead th {\n",
       "        text-align: right;\n",
       "    }\n",
       "</style>\n",
       "<table border=\"1\" class=\"dataframe\">\n",
       "  <thead>\n",
       "    <tr style=\"text-align: right;\">\n",
       "      <th></th>\n",
       "      <th>datetime</th>\n",
       "      <th>open</th>\n",
       "      <th>high</th>\n",
       "      <th>low</th>\n",
       "      <th>close</th>\n",
       "      <th>date</th>\n",
       "      <th>hour</th>\n",
       "    </tr>\n",
       "  </thead>\n",
       "  <tbody>\n",
       "    <tr>\n",
       "      <th>0</th>\n",
       "      <td>2013-01-01 23:00:00</td>\n",
       "      <td>1.32036</td>\n",
       "      <td>1.32041</td>\n",
       "      <td>1.32007</td>\n",
       "      <td>1.32026</td>\n",
       "      <td>2013-01-01</td>\n",
       "      <td>23</td>\n",
       "    </tr>\n",
       "    <tr>\n",
       "      <th>1</th>\n",
       "      <td>2013-01-01 23:01:00</td>\n",
       "      <td>1.32026</td>\n",
       "      <td>1.32042</td>\n",
       "      <td>1.32024</td>\n",
       "      <td>1.32042</td>\n",
       "      <td>2013-01-01</td>\n",
       "      <td>23</td>\n",
       "    </tr>\n",
       "    <tr>\n",
       "      <th>2</th>\n",
       "      <td>2013-01-01 23:02:00</td>\n",
       "      <td>1.32041</td>\n",
       "      <td>1.32042</td>\n",
       "      <td>1.32041</td>\n",
       "      <td>1.32042</td>\n",
       "      <td>2013-01-01</td>\n",
       "      <td>23</td>\n",
       "    </tr>\n",
       "    <tr>\n",
       "      <th>3</th>\n",
       "      <td>2013-01-01 23:03:00</td>\n",
       "      <td>1.32042</td>\n",
       "      <td>1.32042</td>\n",
       "      <td>1.32001</td>\n",
       "      <td>1.32021</td>\n",
       "      <td>2013-01-01</td>\n",
       "      <td>23</td>\n",
       "    </tr>\n",
       "    <tr>\n",
       "      <th>4</th>\n",
       "      <td>2013-01-01 23:04:00</td>\n",
       "      <td>1.32002</td>\n",
       "      <td>1.32002</td>\n",
       "      <td>1.32002</td>\n",
       "      <td>1.32002</td>\n",
       "      <td>2013-01-01</td>\n",
       "      <td>23</td>\n",
       "    </tr>\n",
       "  </tbody>\n",
       "</table>\n",
       "</div>"
      ],
      "text/plain": [
       "              datetime     open     high      low    close        date  hour\n",
       "0  2013-01-01 23:00:00  1.32036  1.32041  1.32007  1.32026  2013-01-01    23\n",
       "1  2013-01-01 23:01:00  1.32026  1.32042  1.32024  1.32042  2013-01-01    23\n",
       "2  2013-01-01 23:02:00  1.32041  1.32042  1.32041  1.32042  2013-01-01    23\n",
       "3  2013-01-01 23:03:00  1.32042  1.32042  1.32001  1.32021  2013-01-01    23\n",
       "4  2013-01-01 23:04:00  1.32002  1.32002  1.32002  1.32002  2013-01-01    23"
      ]
     },
     "execution_count": 92,
     "metadata": {},
     "output_type": "execute_result"
    }
   ],
   "source": [
    "df_m1.head()"
   ]
  },
  {
   "cell_type": "code",
   "execution_count": 93,
   "metadata": {},
   "outputs": [],
   "source": [
    "df_m1['datetime'] = pd.to_datetime(df_m1['datetime'])"
   ]
  },
  {
   "cell_type": "code",
   "execution_count": 94,
   "metadata": {},
   "outputs": [
    {
     "data": {
      "text/plain": [
       "pandas.core.series.Series"
      ]
     },
     "execution_count": 94,
     "metadata": {},
     "output_type": "execute_result"
    }
   ],
   "source": [
    "type(df_m1['datetime'])"
   ]
  },
  {
   "cell_type": "code",
   "execution_count": 95,
   "metadata": {},
   "outputs": [
    {
     "data": {
      "text/plain": [
       "23"
      ]
     },
     "execution_count": 95,
     "metadata": {},
     "output_type": "execute_result"
    }
   ],
   "source": [
    "df_m1.iloc[2]['datetime'].hour"
   ]
  },
  {
   "cell_type": "code",
   "execution_count": 96,
   "metadata": {},
   "outputs": [
    {
     "data": {
      "text/plain": [
       "pandas.core.series.Series"
      ]
     },
     "execution_count": 96,
     "metadata": {},
     "output_type": "execute_result"
    }
   ],
   "source": [
    "type(df_H1['datetime'])"
   ]
  },
  {
   "cell_type": "code",
   "execution_count": 97,
   "metadata": {},
   "outputs": [],
   "source": [
    "df_H1['datetime'] = pd.to_datetime(df_H1['datetime'])"
   ]
  },
  {
   "cell_type": "code",
   "execution_count": 98,
   "metadata": {},
   "outputs": [
    {
     "data": {
      "text/plain": [
       "int"
      ]
     },
     "execution_count": 98,
     "metadata": {},
     "output_type": "execute_result"
    }
   ],
   "source": [
    "type(df_m1.iloc[0]['datetime'].year)"
   ]
  },
  {
   "cell_type": "code",
   "execution_count": 99,
   "metadata": {},
   "outputs": [],
   "source": [
    "filt = ( df_H1['datetime']=='2013-01-03 23:00:00' )\n",
    "matched_index_H1 = df_H1.loc[filt].index.tolist()[0]"
   ]
  },
  {
   "cell_type": "code",
   "execution_count": 100,
   "metadata": {},
   "outputs": [
    {
     "data": {
      "text/plain": [
       "47"
      ]
     },
     "execution_count": 100,
     "metadata": {},
     "output_type": "execute_result"
    }
   ],
   "source": [
    "matched_index_H1"
   ]
  },
  {
   "cell_type": "code",
   "execution_count": 101,
   "metadata": {},
   "outputs": [],
   "source": [
    "df_m1['date'] = pd.to_datetime(df_m1['datetime']).dt.date"
   ]
  },
  {
   "cell_type": "code",
   "execution_count": 102,
   "metadata": {},
   "outputs": [],
   "source": [
    "df_m1['hour'] = pd.to_datetime(df_m1['datetime']).dt.hour"
   ]
  },
  {
   "cell_type": "code",
   "execution_count": 103,
   "metadata": {},
   "outputs": [
    {
     "data": {
      "text/plain": [
       "pandas.core.series.Series"
      ]
     },
     "execution_count": 103,
     "metadata": {},
     "output_type": "execute_result"
    }
   ],
   "source": [
    "type(df_m1['date'])"
   ]
  },
  {
   "cell_type": "code",
   "execution_count": 104,
   "metadata": {},
   "outputs": [
    {
     "data": {
      "text/html": [
       "<div>\n",
       "<style scoped>\n",
       "    .dataframe tbody tr th:only-of-type {\n",
       "        vertical-align: middle;\n",
       "    }\n",
       "\n",
       "    .dataframe tbody tr th {\n",
       "        vertical-align: top;\n",
       "    }\n",
       "\n",
       "    .dataframe thead th {\n",
       "        text-align: right;\n",
       "    }\n",
       "</style>\n",
       "<table border=\"1\" class=\"dataframe\">\n",
       "  <thead>\n",
       "    <tr style=\"text-align: right;\">\n",
       "      <th></th>\n",
       "      <th>datetime</th>\n",
       "      <th>open</th>\n",
       "      <th>high</th>\n",
       "      <th>low</th>\n",
       "      <th>close</th>\n",
       "      <th>date</th>\n",
       "      <th>hour</th>\n",
       "    </tr>\n",
       "  </thead>\n",
       "  <tbody>\n",
       "    <tr>\n",
       "      <th>0</th>\n",
       "      <td>2013-01-01 23:00:00</td>\n",
       "      <td>1.32036</td>\n",
       "      <td>1.32041</td>\n",
       "      <td>1.32007</td>\n",
       "      <td>1.32026</td>\n",
       "      <td>2013-01-01</td>\n",
       "      <td>23</td>\n",
       "    </tr>\n",
       "    <tr>\n",
       "      <th>1</th>\n",
       "      <td>2013-01-01 23:01:00</td>\n",
       "      <td>1.32026</td>\n",
       "      <td>1.32042</td>\n",
       "      <td>1.32024</td>\n",
       "      <td>1.32042</td>\n",
       "      <td>2013-01-01</td>\n",
       "      <td>23</td>\n",
       "    </tr>\n",
       "    <tr>\n",
       "      <th>2</th>\n",
       "      <td>2013-01-01 23:02:00</td>\n",
       "      <td>1.32041</td>\n",
       "      <td>1.32042</td>\n",
       "      <td>1.32041</td>\n",
       "      <td>1.32042</td>\n",
       "      <td>2013-01-01</td>\n",
       "      <td>23</td>\n",
       "    </tr>\n",
       "    <tr>\n",
       "      <th>3</th>\n",
       "      <td>2013-01-01 23:03:00</td>\n",
       "      <td>1.32042</td>\n",
       "      <td>1.32042</td>\n",
       "      <td>1.32001</td>\n",
       "      <td>1.32021</td>\n",
       "      <td>2013-01-01</td>\n",
       "      <td>23</td>\n",
       "    </tr>\n",
       "    <tr>\n",
       "      <th>4</th>\n",
       "      <td>2013-01-01 23:04:00</td>\n",
       "      <td>1.32002</td>\n",
       "      <td>1.32002</td>\n",
       "      <td>1.32002</td>\n",
       "      <td>1.32002</td>\n",
       "      <td>2013-01-01</td>\n",
       "      <td>23</td>\n",
       "    </tr>\n",
       "    <tr>\n",
       "      <th>...</th>\n",
       "      <td>...</td>\n",
       "      <td>...</td>\n",
       "      <td>...</td>\n",
       "      <td>...</td>\n",
       "      <td>...</td>\n",
       "      <td>...</td>\n",
       "      <td>...</td>\n",
       "    </tr>\n",
       "    <tr>\n",
       "      <th>56</th>\n",
       "      <td>2013-01-01 23:56:00</td>\n",
       "      <td>1.32128</td>\n",
       "      <td>1.32128</td>\n",
       "      <td>1.32113</td>\n",
       "      <td>1.32113</td>\n",
       "      <td>2013-01-01</td>\n",
       "      <td>23</td>\n",
       "    </tr>\n",
       "    <tr>\n",
       "      <th>57</th>\n",
       "      <td>2013-01-01 23:57:00</td>\n",
       "      <td>1.32113</td>\n",
       "      <td>1.32113</td>\n",
       "      <td>1.32093</td>\n",
       "      <td>1.32093</td>\n",
       "      <td>2013-01-01</td>\n",
       "      <td>23</td>\n",
       "    </tr>\n",
       "    <tr>\n",
       "      <th>58</th>\n",
       "      <td>2013-01-01 23:58:00</td>\n",
       "      <td>1.32091</td>\n",
       "      <td>1.32091</td>\n",
       "      <td>1.32042</td>\n",
       "      <td>1.32057</td>\n",
       "      <td>2013-01-01</td>\n",
       "      <td>23</td>\n",
       "    </tr>\n",
       "    <tr>\n",
       "      <th>59</th>\n",
       "      <td>2013-01-01 23:59:00</td>\n",
       "      <td>1.32056</td>\n",
       "      <td>1.32056</td>\n",
       "      <td>1.32032</td>\n",
       "      <td>1.32053</td>\n",
       "      <td>2013-01-01</td>\n",
       "      <td>23</td>\n",
       "    </tr>\n",
       "    <tr>\n",
       "      <th>60</th>\n",
       "      <td>2013-01-02 00:00:00</td>\n",
       "      <td>1.32049</td>\n",
       "      <td>1.32073</td>\n",
       "      <td>1.32038</td>\n",
       "      <td>1.32071</td>\n",
       "      <td>2013-01-02</td>\n",
       "      <td>0</td>\n",
       "    </tr>\n",
       "  </tbody>\n",
       "</table>\n",
       "<p>61 rows × 7 columns</p>\n",
       "</div>"
      ],
      "text/plain": [
       "              datetime     open     high      low    close        date  hour\n",
       "0  2013-01-01 23:00:00  1.32036  1.32041  1.32007  1.32026  2013-01-01    23\n",
       "1  2013-01-01 23:01:00  1.32026  1.32042  1.32024  1.32042  2013-01-01    23\n",
       "2  2013-01-01 23:02:00  1.32041  1.32042  1.32041  1.32042  2013-01-01    23\n",
       "3  2013-01-01 23:03:00  1.32042  1.32042  1.32001  1.32021  2013-01-01    23\n",
       "4  2013-01-01 23:04:00  1.32002  1.32002  1.32002  1.32002  2013-01-01    23\n",
       "..                 ...      ...      ...      ...      ...         ...   ...\n",
       "56 2013-01-01 23:56:00  1.32128  1.32128  1.32113  1.32113  2013-01-01    23\n",
       "57 2013-01-01 23:57:00  1.32113  1.32113  1.32093  1.32093  2013-01-01    23\n",
       "58 2013-01-01 23:58:00  1.32091  1.32091  1.32042  1.32057  2013-01-01    23\n",
       "59 2013-01-01 23:59:00  1.32056  1.32056  1.32032  1.32053  2013-01-01    23\n",
       "60 2013-01-02 00:00:00  1.32049  1.32073  1.32038  1.32071  2013-01-02     0\n",
       "\n",
       "[61 rows x 7 columns]"
      ]
     },
     "execution_count": 104,
     "metadata": {},
     "output_type": "execute_result"
    }
   ],
   "source": [
    "df_m1.head(61)"
   ]
  },
  {
   "cell_type": "code",
   "execution_count": 105,
   "metadata": {},
   "outputs": [
    {
     "data": {
      "text/plain": [
       "'2013-01-02'"
      ]
     },
     "execution_count": 105,
     "metadata": {},
     "output_type": "execute_result"
    }
   ],
   "source": [
    "m1_source_date = df_m1['date'][60].strftime('%Y-%m-%d')\n",
    "m1_source_date"
   ]
  },
  {
   "cell_type": "code",
   "execution_count": 106,
   "metadata": {},
   "outputs": [
    {
     "data": {
      "text/plain": [
       "0"
      ]
     },
     "execution_count": 106,
     "metadata": {},
     "output_type": "execute_result"
    }
   ],
   "source": [
    "m1_source_hour = df_m1['hour'][60]\n",
    "m1_source_hour"
   ]
  },
  {
   "cell_type": "code",
   "execution_count": 107,
   "metadata": {},
   "outputs": [],
   "source": [
    "df_H1['date'] = pd.to_datetime(df_H1['datetime']).dt.date"
   ]
  },
  {
   "cell_type": "code",
   "execution_count": 108,
   "metadata": {},
   "outputs": [],
   "source": [
    "df_H1['hour'] = pd.to_datetime(df_H1['datetime']).dt.hour"
   ]
  },
  {
   "cell_type": "code",
   "execution_count": 119,
   "metadata": {},
   "outputs": [
    {
     "data": {
      "text/html": [
       "<div>\n",
       "<style scoped>\n",
       "    .dataframe tbody tr th:only-of-type {\n",
       "        vertical-align: middle;\n",
       "    }\n",
       "\n",
       "    .dataframe tbody tr th {\n",
       "        vertical-align: top;\n",
       "    }\n",
       "\n",
       "    .dataframe thead th {\n",
       "        text-align: right;\n",
       "    }\n",
       "</style>\n",
       "<table border=\"1\" class=\"dataframe\">\n",
       "  <thead>\n",
       "    <tr style=\"text-align: right;\">\n",
       "      <th></th>\n",
       "      <th>datetime</th>\n",
       "      <th>close_change_%</th>\n",
       "      <th>ema50_delta_%</th>\n",
       "      <th>ema21_delta_%</th>\n",
       "      <th>open</th>\n",
       "      <th>high</th>\n",
       "      <th>low</th>\n",
       "      <th>close</th>\n",
       "      <th>date</th>\n",
       "      <th>hour</th>\n",
       "    </tr>\n",
       "  </thead>\n",
       "  <tbody>\n",
       "    <tr>\n",
       "      <th>0</th>\n",
       "      <td>2013-01-02 00:00:00</td>\n",
       "      <td>-0.059824</td>\n",
       "      <td>-0.057513</td>\n",
       "      <td>-0.054418</td>\n",
       "      <td>1.32049</td>\n",
       "      <td>1.32073</td>\n",
       "      <td>1.31866</td>\n",
       "      <td>1.31974</td>\n",
       "      <td>2013-01-02</td>\n",
       "      <td>0</td>\n",
       "    </tr>\n",
       "    <tr>\n",
       "      <th>1</th>\n",
       "      <td>2013-01-02 01:00:00</td>\n",
       "      <td>0.068953</td>\n",
       "      <td>0.010984</td>\n",
       "      <td>0.013204</td>\n",
       "      <td>1.31972</td>\n",
       "      <td>1.32124</td>\n",
       "      <td>1.31916</td>\n",
       "      <td>1.32065</td>\n",
       "      <td>2013-01-02</td>\n",
       "      <td>1</td>\n",
       "    </tr>\n",
       "    <tr>\n",
       "      <th>2</th>\n",
       "      <td>2013-01-02 02:00:00</td>\n",
       "      <td>0.506569</td>\n",
       "      <td>0.494750</td>\n",
       "      <td>0.470139</td>\n",
       "      <td>1.32067</td>\n",
       "      <td>1.32767</td>\n",
       "      <td>1.32065</td>\n",
       "      <td>1.32734</td>\n",
       "      <td>2013-01-02</td>\n",
       "      <td>2</td>\n",
       "    </tr>\n",
       "    <tr>\n",
       "      <th>3</th>\n",
       "      <td>2013-01-02 03:00:00</td>\n",
       "      <td>0.150677</td>\n",
       "      <td>0.619184</td>\n",
       "      <td>0.563530</td>\n",
       "      <td>1.32734</td>\n",
       "      <td>1.32992</td>\n",
       "      <td>1.32706</td>\n",
       "      <td>1.32934</td>\n",
       "      <td>2013-01-02</td>\n",
       "      <td>3</td>\n",
       "    </tr>\n",
       "    <tr>\n",
       "      <th>4</th>\n",
       "      <td>2013-01-02 04:00:00</td>\n",
       "      <td>-0.059428</td>\n",
       "      <td>0.538124</td>\n",
       "      <td>0.458547</td>\n",
       "      <td>1.32934</td>\n",
       "      <td>1.32961</td>\n",
       "      <td>1.32747</td>\n",
       "      <td>1.32855</td>\n",
       "      <td>2013-01-02</td>\n",
       "      <td>4</td>\n",
       "    </tr>\n",
       "  </tbody>\n",
       "</table>\n",
       "</div>"
      ],
      "text/plain": [
       "             datetime  close_change_%  ema50_delta_%  ema21_delta_%     open  \\\n",
       "0 2013-01-02 00:00:00       -0.059824      -0.057513      -0.054418  1.32049   \n",
       "1 2013-01-02 01:00:00        0.068953       0.010984       0.013204  1.31972   \n",
       "2 2013-01-02 02:00:00        0.506569       0.494750       0.470139  1.32067   \n",
       "3 2013-01-02 03:00:00        0.150677       0.619184       0.563530  1.32734   \n",
       "4 2013-01-02 04:00:00       -0.059428       0.538124       0.458547  1.32934   \n",
       "\n",
       "      high      low    close        date  hour  \n",
       "0  1.32073  1.31866  1.31974  2013-01-02     0  \n",
       "1  1.32124  1.31916  1.32065  2013-01-02     1  \n",
       "2  1.32767  1.32065  1.32734  2013-01-02     2  \n",
       "3  1.32992  1.32706  1.32934  2013-01-02     3  \n",
       "4  1.32961  1.32747  1.32855  2013-01-02     4  "
      ]
     },
     "execution_count": 119,
     "metadata": {},
     "output_type": "execute_result"
    }
   ],
   "source": [
    "df_H1.head()"
   ]
  },
  {
   "cell_type": "code",
   "execution_count": 118,
   "metadata": {},
   "outputs": [
    {
     "data": {
      "text/html": [
       "<div>\n",
       "<style scoped>\n",
       "    .dataframe tbody tr th:only-of-type {\n",
       "        vertical-align: middle;\n",
       "    }\n",
       "\n",
       "    .dataframe tbody tr th {\n",
       "        vertical-align: top;\n",
       "    }\n",
       "\n",
       "    .dataframe thead th {\n",
       "        text-align: right;\n",
       "    }\n",
       "</style>\n",
       "<table border=\"1\" class=\"dataframe\">\n",
       "  <thead>\n",
       "    <tr style=\"text-align: right;\">\n",
       "      <th></th>\n",
       "      <th>datetime</th>\n",
       "      <th>open</th>\n",
       "      <th>high</th>\n",
       "      <th>low</th>\n",
       "      <th>close</th>\n",
       "      <th>date</th>\n",
       "      <th>hour</th>\n",
       "    </tr>\n",
       "  </thead>\n",
       "  <tbody>\n",
       "    <tr>\n",
       "      <th>0</th>\n",
       "      <td>2013-01-01 23:00:00</td>\n",
       "      <td>1.32036</td>\n",
       "      <td>1.32041</td>\n",
       "      <td>1.32007</td>\n",
       "      <td>1.32026</td>\n",
       "      <td>2013-01-01</td>\n",
       "      <td>23</td>\n",
       "    </tr>\n",
       "    <tr>\n",
       "      <th>1</th>\n",
       "      <td>2013-01-01 23:01:00</td>\n",
       "      <td>1.32026</td>\n",
       "      <td>1.32042</td>\n",
       "      <td>1.32024</td>\n",
       "      <td>1.32042</td>\n",
       "      <td>2013-01-01</td>\n",
       "      <td>23</td>\n",
       "    </tr>\n",
       "    <tr>\n",
       "      <th>2</th>\n",
       "      <td>2013-01-01 23:02:00</td>\n",
       "      <td>1.32041</td>\n",
       "      <td>1.32042</td>\n",
       "      <td>1.32041</td>\n",
       "      <td>1.32042</td>\n",
       "      <td>2013-01-01</td>\n",
       "      <td>23</td>\n",
       "    </tr>\n",
       "    <tr>\n",
       "      <th>3</th>\n",
       "      <td>2013-01-01 23:03:00</td>\n",
       "      <td>1.32042</td>\n",
       "      <td>1.32042</td>\n",
       "      <td>1.32001</td>\n",
       "      <td>1.32021</td>\n",
       "      <td>2013-01-01</td>\n",
       "      <td>23</td>\n",
       "    </tr>\n",
       "    <tr>\n",
       "      <th>4</th>\n",
       "      <td>2013-01-01 23:04:00</td>\n",
       "      <td>1.32002</td>\n",
       "      <td>1.32002</td>\n",
       "      <td>1.32002</td>\n",
       "      <td>1.32002</td>\n",
       "      <td>2013-01-01</td>\n",
       "      <td>23</td>\n",
       "    </tr>\n",
       "  </tbody>\n",
       "</table>\n",
       "</div>"
      ],
      "text/plain": [
       "             datetime     open     high      low    close        date  hour\n",
       "0 2013-01-01 23:00:00  1.32036  1.32041  1.32007  1.32026  2013-01-01    23\n",
       "1 2013-01-01 23:01:00  1.32026  1.32042  1.32024  1.32042  2013-01-01    23\n",
       "2 2013-01-01 23:02:00  1.32041  1.32042  1.32041  1.32042  2013-01-01    23\n",
       "3 2013-01-01 23:03:00  1.32042  1.32042  1.32001  1.32021  2013-01-01    23\n",
       "4 2013-01-01 23:04:00  1.32002  1.32002  1.32002  1.32002  2013-01-01    23"
      ]
     },
     "execution_count": 118,
     "metadata": {},
     "output_type": "execute_result"
    }
   ],
   "source": [
    "df_m1.head()"
   ]
  },
  {
   "cell_type": "code",
   "execution_count": 110,
   "metadata": {},
   "outputs": [
    {
     "data": {
      "text/plain": [
       "0"
      ]
     },
     "execution_count": 110,
     "metadata": {},
     "output_type": "execute_result"
    }
   ],
   "source": [
    "filt = ( df_H1['date']==df_m1['date'][60] ) & ( df_H1['hour']==df_m1['hour'][60] )\n",
    "matched_index_H1 = df_H1.loc[filt].index.tolist()[0]\n",
    "matched_index_H1"
   ]
  },
  {
   "cell_type": "code",
   "execution_count": 114,
   "metadata": {},
   "outputs": [],
   "source": [
    "import numpy as np\n",
    "prices = np.linspace(df_m1.iloc[-1]['open'], df_m1.iloc[-1]['high'], 18)"
   ]
  },
  {
   "cell_type": "code",
   "execution_count": 117,
   "metadata": {},
   "outputs": [
    {
     "data": {
      "text/plain": [
       "1.12166"
      ]
     },
     "execution_count": 117,
     "metadata": {},
     "output_type": "execute_result"
    }
   ],
   "source": [
    "prices[17]"
   ]
  },
  {
   "cell_type": "code",
   "execution_count": 122,
   "metadata": {},
   "outputs": [
    {
     "data": {
      "text/plain": [
       "120"
      ]
     },
     "execution_count": 122,
     "metadata": {},
     "output_type": "execute_result"
    }
   ],
   "source": [
    "#H1_date = df_H1['date'][1] # TESTED\n",
    "#H1_hour = df_H1['hour'][1] \n",
    "filt = ( df_m1['date']==df_H1['date'][1] ) & ( df_m1['hour']==df_H1['hour'][1] )\n",
    "index_m1 = df_m1.loc[filt].index.tolist()[0] \n",
    "index_m1"
   ]
  },
  {
   "cell_type": "code",
   "execution_count": null,
   "metadata": {},
   "outputs": [],
   "source": []
  }
 ],
 "metadata": {
  "kernelspec": {
   "display_name": "Python 3",
   "language": "python",
   "name": "python3"
  },
  "language_info": {
   "codemirror_mode": {
    "name": "ipython",
    "version": 3
   },
   "file_extension": ".py",
   "mimetype": "text/x-python",
   "name": "python",
   "nbconvert_exporter": "python",
   "pygments_lexer": "ipython3",
   "version": "3.7.7"
  }
 },
 "nbformat": 4,
 "nbformat_minor": 4
}
