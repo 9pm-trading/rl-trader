{
 "cells": [
  {
   "cell_type": "code",
   "execution_count": 64,
   "metadata": {},
   "outputs": [],
   "source": [
    "import pandas as pd"
   ]
  },
  {
   "cell_type": "code",
   "execution_count": 65,
   "metadata": {},
   "outputs": [],
   "source": [
    "df = pd.read_csv('EURUSD1.csv')"
   ]
  },
  {
   "cell_type": "code",
   "execution_count": 66,
   "metadata": {
    "scrolled": true
   },
   "outputs": [
    {
     "data": {
      "text/html": [
       "<div>\n",
       "<style scoped>\n",
       "    .dataframe tbody tr th:only-of-type {\n",
       "        vertical-align: middle;\n",
       "    }\n",
       "\n",
       "    .dataframe tbody tr th {\n",
       "        vertical-align: top;\n",
       "    }\n",
       "\n",
       "    .dataframe thead th {\n",
       "        text-align: right;\n",
       "    }\n",
       "</style>\n",
       "<table border=\"1\" class=\"dataframe\">\n",
       "  <thead>\n",
       "    <tr style=\"text-align: right;\">\n",
       "      <th></th>\n",
       "      <th>1971.01.04</th>\n",
       "      <th>00:00</th>\n",
       "      <th>0.53690</th>\n",
       "      <th>0.53690.1</th>\n",
       "      <th>0.53690.2</th>\n",
       "      <th>0.53690.3</th>\n",
       "      <th>1</th>\n",
       "    </tr>\n",
       "  </thead>\n",
       "  <tbody>\n",
       "    <tr>\n",
       "      <th>7726500</th>\n",
       "      <td>2020.06.25</td>\n",
       "      <td>13:40</td>\n",
       "      <td>1.12197</td>\n",
       "      <td>1.12203</td>\n",
       "      <td>1.12176</td>\n",
       "      <td>1.12184</td>\n",
       "      <td>234</td>\n",
       "    </tr>\n",
       "    <tr>\n",
       "      <th>7726501</th>\n",
       "      <td>2020.06.25</td>\n",
       "      <td>13:41</td>\n",
       "      <td>1.12185</td>\n",
       "      <td>1.12194</td>\n",
       "      <td>1.12158</td>\n",
       "      <td>1.12166</td>\n",
       "      <td>302</td>\n",
       "    </tr>\n",
       "    <tr>\n",
       "      <th>7726502</th>\n",
       "      <td>2020.06.25</td>\n",
       "      <td>13:42</td>\n",
       "      <td>1.12167</td>\n",
       "      <td>1.12181</td>\n",
       "      <td>1.12164</td>\n",
       "      <td>1.12167</td>\n",
       "      <td>307</td>\n",
       "    </tr>\n",
       "    <tr>\n",
       "      <th>7726503</th>\n",
       "      <td>2020.06.25</td>\n",
       "      <td>13:43</td>\n",
       "      <td>1.12167</td>\n",
       "      <td>1.12167</td>\n",
       "      <td>1.12156</td>\n",
       "      <td>1.12160</td>\n",
       "      <td>199</td>\n",
       "    </tr>\n",
       "    <tr>\n",
       "      <th>7726504</th>\n",
       "      <td>2020.06.25</td>\n",
       "      <td>13:44</td>\n",
       "      <td>1.12161</td>\n",
       "      <td>1.12166</td>\n",
       "      <td>1.12160</td>\n",
       "      <td>1.12162</td>\n",
       "      <td>83</td>\n",
       "    </tr>\n",
       "  </tbody>\n",
       "</table>\n",
       "</div>"
      ],
      "text/plain": [
       "         1971.01.04  00:00  0.53690  0.53690.1  0.53690.2  0.53690.3    1\n",
       "7726500  2020.06.25  13:40  1.12197    1.12203    1.12176    1.12184  234\n",
       "7726501  2020.06.25  13:41  1.12185    1.12194    1.12158    1.12166  302\n",
       "7726502  2020.06.25  13:42  1.12167    1.12181    1.12164    1.12167  307\n",
       "7726503  2020.06.25  13:43  1.12167    1.12167    1.12156    1.12160  199\n",
       "7726504  2020.06.25  13:44  1.12161    1.12166    1.12160    1.12162   83"
      ]
     },
     "execution_count": 66,
     "metadata": {},
     "output_type": "execute_result"
    }
   ],
   "source": [
    "df.tail()"
   ]
  },
  {
   "cell_type": "code",
   "execution_count": 67,
   "metadata": {},
   "outputs": [],
   "source": [
    "df.rename( columns={ '1971.01.04':'date', '00:00':'time' , '0.53690':'open', '0.53690.1':'high', '0.53690.2':'low', '0.53690.3':'close', '1':'volume' }, inplace=True )"
   ]
  },
  {
   "cell_type": "code",
   "execution_count": 68,
   "metadata": {},
   "outputs": [],
   "source": [
    "df['datetime'] = df['date'] + ' ' + df['time']"
   ]
  },
  {
   "cell_type": "code",
   "execution_count": 69,
   "metadata": {},
   "outputs": [],
   "source": [
    "df['datetime'] = pd.to_datetime( df['datetime'], format='%Y.%m.%d %H:%M' )"
   ]
  },
  {
   "cell_type": "code",
   "execution_count": 70,
   "metadata": {},
   "outputs": [],
   "source": [
    "df = df[ ['datetime', 'time', 'open', 'high', 'low', 'close'] ]"
   ]
  },
  {
   "cell_type": "code",
   "execution_count": 71,
   "metadata": {},
   "outputs": [],
   "source": [
    "df = df[['datetime', 'open', 'high', 'low', 'close']]"
   ]
  },
  {
   "cell_type": "code",
   "execution_count": 72,
   "metadata": {},
   "outputs": [],
   "source": [
    "df['date'] = pd.to_datetime(df['datetime']).dt.date"
   ]
  },
  {
   "cell_type": "code",
   "execution_count": 73,
   "metadata": {},
   "outputs": [],
   "source": [
    "df['hour'] = pd.to_datetime(df['datetime']).dt.hour"
   ]
  },
  {
   "cell_type": "code",
   "execution_count": 74,
   "metadata": {},
   "outputs": [],
   "source": [
    "df.set_index('datetime', inplace=True)"
   ]
  },
  {
   "cell_type": "code",
   "execution_count": 75,
   "metadata": {},
   "outputs": [],
   "source": [
    "df_7yrs = df['2013':'2020']"
   ]
  },
  {
   "cell_type": "code",
   "execution_count": 76,
   "metadata": {},
   "outputs": [
    {
     "data": {
      "text/html": [
       "<div>\n",
       "<style scoped>\n",
       "    .dataframe tbody tr th:only-of-type {\n",
       "        vertical-align: middle;\n",
       "    }\n",
       "\n",
       "    .dataframe tbody tr th {\n",
       "        vertical-align: top;\n",
       "    }\n",
       "\n",
       "    .dataframe thead th {\n",
       "        text-align: right;\n",
       "    }\n",
       "</style>\n",
       "<table border=\"1\" class=\"dataframe\">\n",
       "  <thead>\n",
       "    <tr style=\"text-align: right;\">\n",
       "      <th></th>\n",
       "      <th>open</th>\n",
       "      <th>high</th>\n",
       "      <th>low</th>\n",
       "      <th>close</th>\n",
       "      <th>date</th>\n",
       "      <th>hour</th>\n",
       "    </tr>\n",
       "    <tr>\n",
       "      <th>datetime</th>\n",
       "      <th></th>\n",
       "      <th></th>\n",
       "      <th></th>\n",
       "      <th></th>\n",
       "      <th></th>\n",
       "      <th></th>\n",
       "    </tr>\n",
       "  </thead>\n",
       "  <tbody>\n",
       "    <tr>\n",
       "      <th>2013-01-01 23:00:00</th>\n",
       "      <td>1.32036</td>\n",
       "      <td>1.32041</td>\n",
       "      <td>1.32007</td>\n",
       "      <td>1.32026</td>\n",
       "      <td>2013-01-01</td>\n",
       "      <td>23</td>\n",
       "    </tr>\n",
       "    <tr>\n",
       "      <th>2013-01-01 23:01:00</th>\n",
       "      <td>1.32026</td>\n",
       "      <td>1.32042</td>\n",
       "      <td>1.32024</td>\n",
       "      <td>1.32042</td>\n",
       "      <td>2013-01-01</td>\n",
       "      <td>23</td>\n",
       "    </tr>\n",
       "    <tr>\n",
       "      <th>2013-01-01 23:02:00</th>\n",
       "      <td>1.32041</td>\n",
       "      <td>1.32042</td>\n",
       "      <td>1.32041</td>\n",
       "      <td>1.32042</td>\n",
       "      <td>2013-01-01</td>\n",
       "      <td>23</td>\n",
       "    </tr>\n",
       "    <tr>\n",
       "      <th>2013-01-01 23:03:00</th>\n",
       "      <td>1.32042</td>\n",
       "      <td>1.32042</td>\n",
       "      <td>1.32001</td>\n",
       "      <td>1.32021</td>\n",
       "      <td>2013-01-01</td>\n",
       "      <td>23</td>\n",
       "    </tr>\n",
       "    <tr>\n",
       "      <th>2013-01-01 23:04:00</th>\n",
       "      <td>1.32002</td>\n",
       "      <td>1.32002</td>\n",
       "      <td>1.32002</td>\n",
       "      <td>1.32002</td>\n",
       "      <td>2013-01-01</td>\n",
       "      <td>23</td>\n",
       "    </tr>\n",
       "    <tr>\n",
       "      <th>...</th>\n",
       "      <td>...</td>\n",
       "      <td>...</td>\n",
       "      <td>...</td>\n",
       "      <td>...</td>\n",
       "      <td>...</td>\n",
       "      <td>...</td>\n",
       "    </tr>\n",
       "    <tr>\n",
       "      <th>2020-06-25 13:40:00</th>\n",
       "      <td>1.12197</td>\n",
       "      <td>1.12203</td>\n",
       "      <td>1.12176</td>\n",
       "      <td>1.12184</td>\n",
       "      <td>2020-06-25</td>\n",
       "      <td>13</td>\n",
       "    </tr>\n",
       "    <tr>\n",
       "      <th>2020-06-25 13:41:00</th>\n",
       "      <td>1.12185</td>\n",
       "      <td>1.12194</td>\n",
       "      <td>1.12158</td>\n",
       "      <td>1.12166</td>\n",
       "      <td>2020-06-25</td>\n",
       "      <td>13</td>\n",
       "    </tr>\n",
       "    <tr>\n",
       "      <th>2020-06-25 13:42:00</th>\n",
       "      <td>1.12167</td>\n",
       "      <td>1.12181</td>\n",
       "      <td>1.12164</td>\n",
       "      <td>1.12167</td>\n",
       "      <td>2020-06-25</td>\n",
       "      <td>13</td>\n",
       "    </tr>\n",
       "    <tr>\n",
       "      <th>2020-06-25 13:43:00</th>\n",
       "      <td>1.12167</td>\n",
       "      <td>1.12167</td>\n",
       "      <td>1.12156</td>\n",
       "      <td>1.12160</td>\n",
       "      <td>2020-06-25</td>\n",
       "      <td>13</td>\n",
       "    </tr>\n",
       "    <tr>\n",
       "      <th>2020-06-25 13:44:00</th>\n",
       "      <td>1.12161</td>\n",
       "      <td>1.12166</td>\n",
       "      <td>1.12160</td>\n",
       "      <td>1.12162</td>\n",
       "      <td>2020-06-25</td>\n",
       "      <td>13</td>\n",
       "    </tr>\n",
       "  </tbody>\n",
       "</table>\n",
       "<p>2773716 rows × 6 columns</p>\n",
       "</div>"
      ],
      "text/plain": [
       "                        open     high      low    close        date  hour\n",
       "datetime                                                                 \n",
       "2013-01-01 23:00:00  1.32036  1.32041  1.32007  1.32026  2013-01-01    23\n",
       "2013-01-01 23:01:00  1.32026  1.32042  1.32024  1.32042  2013-01-01    23\n",
       "2013-01-01 23:02:00  1.32041  1.32042  1.32041  1.32042  2013-01-01    23\n",
       "2013-01-01 23:03:00  1.32042  1.32042  1.32001  1.32021  2013-01-01    23\n",
       "2013-01-01 23:04:00  1.32002  1.32002  1.32002  1.32002  2013-01-01    23\n",
       "...                      ...      ...      ...      ...         ...   ...\n",
       "2020-06-25 13:40:00  1.12197  1.12203  1.12176  1.12184  2020-06-25    13\n",
       "2020-06-25 13:41:00  1.12185  1.12194  1.12158  1.12166  2020-06-25    13\n",
       "2020-06-25 13:42:00  1.12167  1.12181  1.12164  1.12167  2020-06-25    13\n",
       "2020-06-25 13:43:00  1.12167  1.12167  1.12156  1.12160  2020-06-25    13\n",
       "2020-06-25 13:44:00  1.12161  1.12166  1.12160  1.12162  2020-06-25    13\n",
       "\n",
       "[2773716 rows x 6 columns]"
      ]
     },
     "execution_count": 76,
     "metadata": {},
     "output_type": "execute_result"
    }
   ],
   "source": [
    "df_7yrs"
   ]
  },
  {
   "cell_type": "code",
   "execution_count": 77,
   "metadata": {},
   "outputs": [],
   "source": [
    "df_7yrs.to_csv('eurusd_m1_2013_2020.csv')"
   ]
  }
 ],
 "metadata": {
  "kernelspec": {
   "display_name": "Python 3",
   "language": "python",
   "name": "python3"
  },
  "language_info": {
   "codemirror_mode": {
    "name": "ipython",
    "version": 3
   },
   "file_extension": ".py",
   "mimetype": "text/x-python",
   "name": "python",
   "nbconvert_exporter": "python",
   "pygments_lexer": "ipython3",
   "version": "3.7.7"
  }
 },
 "nbformat": 4,
 "nbformat_minor": 4
}
